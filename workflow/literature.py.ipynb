{
 "cells": [
  {
   "cell_type": "code",
   "execution_count": null,
   "id": "8da26333",
   "metadata": {},
   "outputs": [],
   "source": [
    "import pandas as pd"
   ]
  },
  {
   "cell_type": "code",
   "execution_count": null,
   "id": "82f8ee91-3f37-41f6-9376-b0ba12dd8876",
   "metadata": {},
   "outputs": [],
   "source": [
    "df_protein_coding = pd.read_csv(snakemake.input['protein_coding'])"
   ]
  },
  {
   "cell_type": "code",
   "execution_count": null,
   "id": "960123f8-8781-4f3d-b817-07a0f8ba08ea",
   "metadata": {},
   "outputs": [],
   "source": [
    "literature = dict()"
   ]
  },
  {
   "cell_type": "code",
   "execution_count": null,
   "id": "5a5572a1-a71e-46e9-8d12-7d64fc1391ad",
   "metadata": {},
   "outputs": [],
   "source": [
    "literature['10.1007/s40142-020-00194-8'] = [\n",
    "    'SPG11',\n",
    "    'DCTN1',\n",
    "    'TARDBP',\n",
    "    'ANG',\n",
    "    'SETX',\n",
    "    'SOD1',\n",
    "    'KIF5A',\n",
    "    'PFN1',\n",
    "    'C9orf72',\n",
    "    'CHMP2B',\n",
    "    'SSI8L1',\n",
    "    'ALS2',\n",
    "    'MATR3',\n",
    "    'SQSTM1',\n",
    "    'ARPP21',\n",
    "    'SIGMAR1',\n",
    "    'ATXN2',\n",
    "    'NEFH',\n",
    "    'hnRNPA2B1',\n",
    "    'CHCHD10',\n",
    "    'TBK1',\n",
    "    'EWSR1',\n",
    "    'DAO',\n",
    "    'NEK1',\n",
    "    'ERBB4',\n",
    "    'GLT8D1',\n",
    "    'TIA1',\n",
    "    'ANXA11',\n",
    "    'FIG4',\n",
    "    'hnRNPA1',\n",
    "    'FUS',\n",
    "    'TAF15',\n",
    "    'LGALSL',\n",
    "    'VCP',\n",
    "    'ERLIN2',\n",
    "    'GRN',\n",
    "    'CCNF',\n",
    "    'PRPH',\n",
    "    'C21orf2',\n",
    "    'TUBA4A',\n",
    "    'VAPB',\n",
    "    'UBQLN2',\n",
    "    'DNAJC7',\n",
    "    'OPTN'\n",
    "]"
   ]
  },
  {
   "cell_type": "code",
   "execution_count": null,
   "id": "5f27c02f-7e52-4d14-973b-c54539ba23dd",
   "metadata": {},
   "outputs": [],
   "source": [
    "literature['10.1038/nrdp.2017.71'] = [\n",
    "    'SPG11',\n",
    "    'TARDBP',\n",
    "    'ANG',\n",
    "    'HNRNPA2B1',\n",
    "    'HNRNPA1',\n",
    "    'SETX',\n",
    "    'SOD1',\n",
    "    'C9orf72',\n",
    "    'CHMP2B',\n",
    "    'MATR3',\n",
    "    'ALS2',\n",
    "    'SQSTM1',\n",
    "    'SIGMAR1',\n",
    "    'ATXN2',\n",
    "    'CHCHD10',\n",
    "    'TBK1',\n",
    "    'EWSR1',\n",
    "    'NEK1',\n",
    "    'FIG4',\n",
    "    'FUS',\n",
    "    'TAF15',\n",
    "    'C21orf2',\n",
    "    'ELP3',\n",
    "    'UNC13A',\n",
    "    'VAPB',\n",
    "    'UBQLN2',\n",
    "    'OPTN'\n",
    "]"
   ]
  },
  {
   "cell_type": "code",
   "execution_count": null,
   "id": "14249a24-7080-400a-af3a-6003da44d910",
   "metadata": {},
   "outputs": [],
   "source": [
    "literature['10.1111/eci.13228'] = [\n",
    "    'PSEN2',\n",
    "    'SPG11',\n",
    "    'DCTN1',\n",
    "    'PON2',\n",
    "    'LUM',\n",
    "    'TARDBP',\n",
    "    'ANG',\n",
    "    'PON1',\n",
    "    'CENPV',\n",
    "    'HNRNPA2B1',\n",
    "    'HNRNPA1',\n",
    "    'SQDTM1',\n",
    "    'SETX',\n",
    "    'MAPT',\n",
    "    'SOD1',\n",
    "    'CCDC53',\n",
    "    'PFN1',\n",
    "    'FIG4 ',\n",
    "    'PSEN1',\n",
    "    'PON3',\n",
    "    'CAPZA1',\n",
    "    'CHMP2B',\n",
    "    'GLE1',\n",
    "    'ALS2',\n",
    "    'MATR3',\n",
    "    'SQSTM1',\n",
    "    'c9orf72',\n",
    "    'SIGMAR1',\n",
    "    'SS18L1',\n",
    "    'ATXN2',\n",
    "    'TREM2',\n",
    "    'NEFH',\n",
    "    'RNF19A',\n",
    "    'MAPTOPTN',\n",
    "    'CHCHD10',\n",
    "    'KIAA1033',\n",
    "    'CAPZB',\n",
    "    'MAPT3',\n",
    "    'TBK1',\n",
    "    'TFG',\n",
    "    'EWSR1',\n",
    "    'EPHA4',\n",
    "    'APOE',\n",
    "    'DAO',\n",
    "    'RARDBP',\n",
    "    'ERBB4',\n",
    "    'BSCL2',\n",
    "    'ZNF512B',\n",
    "    'FIG4',\n",
    "    'FAM21C',\n",
    "    'FUS',\n",
    "    'TAF15',\n",
    "    'NIPA1',\n",
    "    'VCP',\n",
    "    'GRN',\n",
    "    'CHRNA4',\n",
    "    'VEGF',\n",
    "    'WASH1',\n",
    "    'PRPH',\n",
    "    'KIAA0196',\n",
    "    'UNC13A',\n",
    "    'ALS',\n",
    "    'ELP3',\n",
    "    'TUBA4A',\n",
    "    'ARHGEF28',\n",
    "    'VAPB',\n",
    "    'UBQLN2',\n",
    "    'SPAST',\n",
    "    'OPTN'\n",
    "]"
   ]
  },
  {
   "cell_type": "code",
   "execution_count": null,
   "id": "cb98884d-79a6-48ae-bc0a-abaf6938bdec",
   "metadata": {},
   "outputs": [],
   "source": [
    "literature['10.1038/srep09124'] = [\n",
    "    'ABCA2'\n",
    "]"
   ]
  },
  {
   "cell_type": "code",
   "execution_count": null,
   "id": "27a816cc-6510-43d0-ae5b-31255109fe00",
   "metadata": {},
   "outputs": [],
   "source": [
    "literature['10.1186/s40478-019-0710-x'] = [\n",
    "    'ALYREF'\n",
    "]"
   ]
  },
  {
   "cell_type": "code",
   "execution_count": null,
   "id": "2d8c1ca1-0445-4f73-812c-bb8cb0e2e461",
   "metadata": {},
   "outputs": [],
   "source": [
    "literature['10.1016/j.neuron.2019.09.003'] = [\n",
    "    'DDX3X'\n",
    "]"
   ]
  },
  {
   "cell_type": "code",
   "execution_count": null,
   "id": "0c483cd8-6e59-488a-8be6-6f515cb3890a",
   "metadata": {},
   "outputs": [],
   "source": [
    "literature['10.1186/s40478-020-00943-4'] = [\n",
    "    'TPI1'\n",
    "]"
   ]
  },
  {
   "cell_type": "code",
   "execution_count": null,
   "id": "9e45187e-edc1-4d8d-9e4c-1fd4e9f55a84",
   "metadata": {},
   "outputs": [],
   "source": [
    "literature['10.1038/srep44500'] = [\n",
    "    'ELAVL2'\n",
    "]"
   ]
  },
  {
   "cell_type": "code",
   "execution_count": null,
   "id": "72d82e56-96e0-41c0-9a9b-5ff5a6dee2ab",
   "metadata": {},
   "outputs": [],
   "source": [
    "literature['10.1007/s00401-022-02450-3'] = [\n",
    "    'NOVA1'\n",
    "]"
   ]
  },
  {
   "cell_type": "code",
   "execution_count": null,
   "id": "59d1c782-8233-4301-afb7-8997fe18389e",
   "metadata": {},
   "outputs": [],
   "source": [
    "literature['10.1038/sj.cdd.4402166'] = [\n",
    "    'BCL2'\n",
    "]"
   ]
  },
  {
   "cell_type": "code",
   "execution_count": null,
   "id": "f6a13fbe-4376-4c0b-8dea-f136e5c236b9",
   "metadata": {},
   "outputs": [],
   "source": [
    "literature['10.1046/j.1471-4159.1999.0732460.x'] = [\n",
    "    'BCL2'\n",
    "]"
   ]
  },
  {
   "cell_type": "code",
   "execution_count": null,
   "id": "c0d776e6-ae98-4813-a0fd-5c995ac1aa42",
   "metadata": {},
   "outputs": [],
   "source": [
    "literature['10.1126/SCIENCE.277.5325.559'] = [\n",
    "    'BCL2'\n",
    "]"
   ]
  },
  {
   "cell_type": "code",
   "execution_count": null,
   "id": "fb539824-caa1-4018-ab3b-50d700ddbaae",
   "metadata": {},
   "outputs": [],
   "source": [
    "literature['10.1016/j.neuron.2004.06.021'] = [\n",
    "    'BCL2'\n",
    "]"
   ]
  },
  {
   "cell_type": "code",
   "execution_count": null,
   "id": "b9084b29-61ba-40cf-a83b-6df4727dfe15",
   "metadata": {},
   "outputs": [],
   "source": [
    "literature['10.1002/ana.410400307'] = [\n",
    "    'BCL2'\n",
    "]"
   ]
  },
  {
   "cell_type": "code",
   "execution_count": null,
   "id": "4c600d96-9d55-4f9f-a227-fcfced7459af",
   "metadata": {},
   "outputs": [],
   "source": [
    "literature['10.1212/WNL.0000000000010945'] = [\n",
    "    'NOTCH2NLC'\n",
    "]"
   ]
  },
  {
   "cell_type": "code",
   "execution_count": null,
   "id": "96806ee1-2712-4310-8f15-2dcbf99cd6a3",
   "metadata": {},
   "outputs": [],
   "source": [
    "literature['10.1097/NEN.0b013e3182423c43'] = [\n",
    "    'ERBB2'\n",
    "]"
   ]
  },
  {
   "cell_type": "code",
   "execution_count": null,
   "id": "d1742e53-b6fc-4fcc-83bc-bf1e368deafc",
   "metadata": {},
   "outputs": [],
   "source": [
    "literature['doi.org/10.15252/embj.201694221'] = [\n",
    "    'VPS4B'\n",
    "]"
   ]
  },
  {
   "cell_type": "code",
   "execution_count": null,
   "id": "d663b979-33f1-4493-9a89-df6699d0a76e",
   "metadata": {},
   "outputs": [],
   "source": [
    "literature['10.1021/acschemneuro.3c00135'] = [\n",
    "    'CDKL5'\n",
    "]"
   ]
  },
  {
   "cell_type": "code",
   "execution_count": null,
   "id": "d6422262-1b8f-4f04-80fa-531a61fde29d",
   "metadata": {},
   "outputs": [],
   "source": [
    "literature['10.1016/j.neuroscience.2019.06.025'] = [\n",
    "    'HIF1A'\n",
    "]"
   ]
  },
  {
   "cell_type": "code",
   "execution_count": null,
   "id": "69666d7f-7081-4ef7-a30c-7bfaa3a07269",
   "metadata": {},
   "outputs": [],
   "source": [
    "literature['10.1007/s13311-019-00811-7'] = [\n",
    "    'NRG1'\n",
    "]"
   ]
  },
  {
   "cell_type": "code",
   "execution_count": null,
   "id": "de49486f-8de9-4c7e-8239-9792a5be978b",
   "metadata": {},
   "outputs": [],
   "source": [
    "literature['10.1371/journal.pone.0025545'] = [\n",
    "    'IRAK4'\n",
    "]"
   ]
  },
  {
   "cell_type": "code",
   "execution_count": null,
   "id": "cf79876c-8426-4a89-8714-378a8db63ff9",
   "metadata": {},
   "outputs": [],
   "source": [
    "df = pd.Series(literature).reset_index()\n",
    "df.columns = ['doi', 'gene_name']\n",
    "df = df.explode('gene_name')\n",
    "df = df.groupby('gene_name').agg(list).reset_index()\n",
    "df['doi'] = df['doi'].str.join(';')\n",
    "df = df.sort_values('gene_name')"
   ]
  },
  {
   "cell_type": "code",
   "execution_count": null,
   "id": "cdc88f4f-2360-45e1-b161-974a808d09ff",
   "metadata": {},
   "outputs": [],
   "source": [
    "df = df.set_index('gene_name').join(df_protein_coding.set_index('gene_name'))"
   ]
  },
  {
   "cell_type": "code",
   "execution_count": null,
   "id": "56200589-4778-4da3-b2ad-5a74dd5e62ce",
   "metadata": {},
   "outputs": [],
   "source": [
    "df[df['gene_id'].isna()] # missing gene ids"
   ]
  },
  {
   "cell_type": "code",
   "execution_count": null,
   "id": "5a5c4bc4-c155-4f31-ac3f-0cec81f1fad2",
   "metadata": {},
   "outputs": [],
   "source": [
    "df = df[~df['gene_id'].isna()]"
   ]
  },
  {
   "cell_type": "code",
   "execution_count": null,
   "id": "6b286226-a71b-41e0-a5a5-05e91e3bc2c7",
   "metadata": {},
   "outputs": [],
   "source": [
    "df = df.reset_index()\n",
    "df[['gene_id', 'gene_name', 'doi']].to_csv(snakemake.output['literature'], sep='\\t', index=False)"
   ]
  }
 ],
 "metadata": {
  "kernelspec": {
   "display_name": "Python 3 (ipykernel)",
   "language": "python",
   "name": "python3"
  },
  "language_info": {
   "codemirror_mode": {
    "name": "ipython",
    "version": 3
   },
   "file_extension": ".py",
   "mimetype": "text/x-python",
   "name": "python",
   "nbconvert_exporter": "python",
   "pygments_lexer": "ipython3",
   "version": "3.8.17"
  }
 },
 "nbformat": 4,
 "nbformat_minor": 5
}
